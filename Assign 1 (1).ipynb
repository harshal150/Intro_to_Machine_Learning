{
 "cells": [
  {
   "cell_type": "markdown",
   "id": "60e5b185-7153-4693-aad4-05a913fcb124",
   "metadata": {},
   "source": [
    "Q1- Explain the following with an example:\n",
    "    \n",
    "(i) Artificial Intelligence\n",
    "\n",
    "(ii) Machine Learning\n",
    "\n",
    "(iii) Deep Learning\n",
    "\n",
    "Artificial Intelligence (AI) is the ability of a machine to perform tasks that would typically require human intelligence, such as speech recognition and decision-making. For example, AI-powered virtual assistants like Siri and Alexa can understand natural language and perform tasks like setting reminders, making phone calls, and playing music.\n",
    "\n",
    "\n",
    "Machine Learning (ML) is a subset of AI that involves training a machine to learn from data and make predictions or decisions without being explicitly programmed. An example of machine learning is a spam filter that learns to identify and block unwanted emails based on user feedback.\n",
    "\n",
    "\n",
    "Deep Learning is a subset of machine learning that uses artificial neural networks to model and solve complex problems. A notable example of deep learning is image recognition, where a deep neural network can accurately classify images based on their content, enabling applications like self-driving cars and medical diagnosis."
   ]
  },
  {
   "cell_type": "code",
   "execution_count": null,
   "id": "60ddd4a3-b321-4159-b04f-27e41d93e966",
   "metadata": {},
   "outputs": [],
   "source": []
  },
  {
   "cell_type": "markdown",
   "id": "0302f6ee-59d5-4faf-9f49-785a311d5b4d",
   "metadata": {},
   "source": [
    "Q2- What is supervised learning? List some examples of supervised learning.\n",
    "\n",
    "Supervised learning is a type of machine learning where a model is trained on a labeled dataset, meaning that the data has input features and corresponding output labels. The goal of supervised learning is to learn a mapping function from input to output that can be used to make predictions on new, unseen data. In other words, the model is trained to predict the output given the input.\n",
    "\n",
    "Examples of supervised learning include:\n",
    "\n",
    "(i) Image classification: Given an image, predict the category it belongs to (e.g. cat or dog). (ii) Speech recognition: Given an audio clip, transcribe it into text. (iii) Sentiment analysis: Given a text input, classify it as positive, negative, or neutral. (iv) Regression analysis: Given numerical input data, predict a continuous numerical output value, such as the price of a house based on its features. (v) Fraud detection: Given information about a transaction, predict whether it is likely to be fraudulent or not."
   ]
  },
  {
   "cell_type": "code",
   "execution_count": null,
   "id": "541337fd-7509-4b61-95d5-74457f972442",
   "metadata": {},
   "outputs": [],
   "source": []
  },
  {
   "cell_type": "markdown",
   "id": "de8260f0-3452-4aa9-a2de-3f9beb3739f2",
   "metadata": {},
   "source": [
    "Q3- What is unsupervised learning? List some exmples of unsupervised learning.\n",
    "\n",
    "Unsupervised learning is a type of machine learning where the model is trained on an unlabeled dataset, meaning that the data has no corresponding output labels. The goal of unsupervised learning is to discover patterns or relationships in the data without being explicitly told what to look for. In other words, the model is left to its own devices to find structure in the data.\n",
    "\n",
    "Examples of unsupervised learning include:\n",
    "\n",
    "Clustering: Grouping together similar data points based on their attributes. This can be used for customer segmentation, image segmentation, and more. Dimensionality reduction: Reducing the number of features in a dataset while retaining as much of the original information as possible. This can be used for data compression, visualization, and feature engineering. Anomaly detection: Identifying data points that are significantly different from the rest of the data. This can be used for fraud detection, network intrusion detection, and more."
   ]
  },
  {
   "cell_type": "code",
   "execution_count": null,
   "id": "83192d1d-92c0-41c8-9804-b6f91c6ced59",
   "metadata": {},
   "outputs": [],
   "source": []
  },
  {
   "cell_type": "markdown",
   "id": "2ab6219f-bb77-40fb-85ff-6a4853e55ad1",
   "metadata": {},
   "source": [
    "Q4- What is the difference between AI, ML, DL, and DS?\n",
    "\n",
    "AI is the broadest term that encompasses the ability of a machine to perform tasks that would typically require human intelligence. ML is a subset of AI that involves training a machine to learn from data. DL is a subset of ML that uses artificial neural networks to solve complex problems. DS, or Data Science, is a field that encompasses the use of statistical and computational techniques to extract insights and knowledge from data."
   ]
  },
  {
   "cell_type": "code",
   "execution_count": null,
   "id": "f13684d8-fb3a-4086-80a5-953a7d0a1972",
   "metadata": {},
   "outputs": [],
   "source": []
  },
  {
   "cell_type": "markdown",
   "id": "964e7483-8ac9-44cd-b804-fcc2bd7a6984",
   "metadata": {},
   "source": [
    "Q5- What are the main differnces between supervised, unsupervised, and semi-supervised learning?\n",
    "\n",
    "The main differences between supervised, unsupervised, and semi-supervised learning are:\n",
    "\n",
    "(i) Supervised learning:\n",
    "\n",
    "Uses labeled data, where each input has a corresponding output label The goal is to learn a mapping function from input to output that can be used to make predictions on new, unseen data Examples include image classification, sentiment analysis, and regression analysis\n",
    "\n",
    "(ii) Unsupervised learning:\n",
    "\n",
    "Uses unlabeled data, where there are no corresponding output labels The goal is to discover patterns or relationships in the data without being explicitly told what to look for Examples include clustering, dimensionality reduction, and anomaly detection\n",
    "\n",
    "(iii) Semi-supervised learning:\n",
    "\n",
    "Uses a combination of labeled and unlabeled data The goal is to improve the performance of a supervised learning model by using unlabeled data to improve its ability to generalize to new, unseen data Examples include speech recognition, natural language processing, and image classification"
   ]
  },
  {
   "cell_type": "code",
   "execution_count": null,
   "id": "37dec3ce-ec46-49e3-bb21-ea39a9086acb",
   "metadata": {},
   "outputs": [],
   "source": []
  },
  {
   "cell_type": "markdown",
   "id": "2c75fa3e-8e4f-46b7-80f5-5cdb650f67a7",
   "metadata": {},
   "source": [
    "Q6- What is train, test and validation split? Explain the importance of each term.\n",
    "\n",
    "Train, test, and validation split is a common practice in machine learning where the dataset is divided into three parts: a training set, a validation set, and a test set. The training set is used to train the model, the validation set is used to tune model parameters and avoid overfitting, and the test set is used to evaluate the model's performance on new, unseen data.\n",
    "\n",
    "The importance of each term is as follows: (i) Train: Used to train the model and adjust its parameters. (ii) Validation: Used to evaluate the performance of the model during training and make adjustments to prevent overfitting. (iii) Test: Used to evaluate the final performance of the model on new, unseen data and ensure that it can generalize well to real-world scenarios"
   ]
  },
  {
   "cell_type": "code",
   "execution_count": null,
   "id": "6fe75601-475a-4aef-8c6c-ef97659278ce",
   "metadata": {},
   "outputs": [],
   "source": []
  },
  {
   "cell_type": "markdown",
   "id": "cf595b95-b0e3-443a-bf87-8331bff75b7c",
   "metadata": {},
   "source": [
    "Q7- How can unsupervised learing be used in anomaly detection?\n",
    "\n",
    "Unsupervised learning can be used in anomaly detection by training the model on normal data and identifying data points that are significantly different from the rest of the data. Clustering and dimensionality reduction techniques can also be used to identify anomalies in the data based on their deviation from normal patterns or relationships"
   ]
  },
  {
   "cell_type": "code",
   "execution_count": null,
   "id": "bffb06e5-73d2-43c6-9304-90ad89c55cb7",
   "metadata": {},
   "outputs": [],
   "source": []
  },
  {
   "cell_type": "markdown",
   "id": "40fdcd44-284d-4a96-bad5-57f665d9d8d4",
   "metadata": {},
   "source": [
    "Q8- List down some commonly used supervised learning algorithms and unsupervised learning algorithms.\n",
    "\n",
    "Here are some commonly used supervised learning algorithms: (i) Linear regression (ii) Logistic regression (iii) Decision trees (iv) Random forests (v) Support vector machines (SVM) (vi) K-nearest neighbors (KNN) (vii) Naive Bayes (viii) Neural networks\n",
    "\n",
    "Here are some commonly used unsupervised learning algorithms: (i) K-means clustering (ii) Hierarchical clustering (iii) Principal component analysis (PCA) (iv) t-SNE (t-distributed stochastic neighbor embedding) (v) DBSCAN (density-based spatial clustering of applications with noise) (vi) Isolation Forest (vii) Autoencoders (viii) Generative Adversarial Networks (GANs)"
   ]
  },
  {
   "cell_type": "code",
   "execution_count": null,
   "id": "ea475896-2ab7-42bc-a7ef-428353df9a1c",
   "metadata": {},
   "outputs": [],
   "source": []
  },
  {
   "cell_type": "code",
   "execution_count": null,
   "id": "3def6e5e-d0af-4725-98ec-c3f41d22b61b",
   "metadata": {},
   "outputs": [],
   "source": []
  }
 ],
 "metadata": {
  "kernelspec": {
   "display_name": "Python 3 (ipykernel)",
   "language": "python",
   "name": "python3"
  },
  "language_info": {
   "codemirror_mode": {
    "name": "ipython",
    "version": 3
   },
   "file_extension": ".py",
   "mimetype": "text/x-python",
   "name": "python",
   "nbconvert_exporter": "python",
   "pygments_lexer": "ipython3",
   "version": "3.10.8"
  }
 },
 "nbformat": 4,
 "nbformat_minor": 5
}
